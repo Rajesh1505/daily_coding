{
  "nbformat": 4,
  "nbformat_minor": 0,
  "metadata": {
    "colab": {
      "name": "100days of python.ipynb",
      "provenance": [],
      "collapsed_sections": [],
      "authorship_tag": "ABX9TyOTpbb4dFygCZrArFUhAZ9u"
    },
    "kernelspec": {
      "name": "python3",
      "display_name": "Python 3"
    },
    "language_info": {
      "name": "python"
    }
  },
  "cells": [
    {
      "cell_type": "markdown",
      "source": [
        "#Day-1"
      ],
      "metadata": {
        "id": "nzoEZjFsPMD3"
      }
    },
    {
      "cell_type": "code",
      "execution_count": 1,
      "metadata": {
        "colab": {
          "base_uri": "https://localhost:8080/"
        },
        "id": "yf60hkUDO0zw",
        "outputId": "07d2ad7c-892f-45e3-e64b-f69d0dc4129e"
      },
      "outputs": [
        {
          "output_type": "stream",
          "name": "stdout",
          "text": [
            "please enter a number : 12345\n",
            "\n",
            "user entered the number is :12345\n",
            "\n",
            "reverse of the number is :54321\n"
          ]
        }
      ],
      "source": [
        "# Python program to reverse a number\n",
        "def reverse_number(input_num):\n",
        "  '''This function takes input as a positive number \n",
        "  and return reverse of the number'''\n",
        "\n",
        "  reverse_num = 0\n",
        "  while input_num > 0:\n",
        "    reverse_num = reverse_num*10 + input_num%10       \n",
        "    input_num = (input_num//10)\n",
        "  return reverse_num\n",
        "\n",
        "#user input\n",
        "input_num = int(input(\"please enter a number : \"))\n",
        "print(f'\\nuser entered the number is :{input_num}')\n",
        "print(f'\\nreverse of the number is :{reverse_number(input_num)}')"
      ]
    },
    {
      "cell_type": "markdown",
      "source": [
        "# Day-2"
      ],
      "metadata": {
        "id": "EX3KZtsF_2q5"
      }
    },
    {
      "cell_type": "code",
      "source": [
        "#Python program to check a number is Armstrong or not\n",
        "def check_armstrong(input_num):\n",
        "  '''This function takes input as a positive number \n",
        "  and return number is Armstrong or not'''\n",
        "  i=0\n",
        "  result=0\n",
        "  number1 = input_num\n",
        "  temp = input_num\n",
        "  while input_num!=0:\n",
        "      input_num = (input_num//10)\n",
        "      i=i+1\n",
        "  while number1!=0:\n",
        "      n=number1%10\n",
        "      result=result+pow(n,i)\n",
        "      number1=number1//10\n",
        "  if temp==result:\n",
        "      return(\"number is armstrong\")\n",
        "  else:\n",
        "      return(\"number is not armstrong\") \n",
        "\n",
        "#user input\n",
        "input_num = int(input(\"please enter a number : \"))\n",
        "print(f'\\nuser entered the number is :{input_num}')\n",
        "print(f'\\nOutput : {check_armstrong(input_num)}')"
      ],
      "metadata": {
        "colab": {
          "base_uri": "https://localhost:8080/"
        },
        "id": "W2yaod5T_1U4",
        "outputId": "7cd54776-a3da-4791-bdaa-2b138a8dc48d"
      },
      "execution_count": 12,
      "outputs": [
        {
          "output_type": "stream",
          "name": "stdout",
          "text": [
            "please enter a number : 153\n",
            "\n",
            "user entered the number is :153\n",
            "\n",
            "Output : number is armstrong\n"
          ]
        }
      ]
    }
  ]
}