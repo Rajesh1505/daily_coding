{
  "nbformat": 4,
  "nbformat_minor": 0,
  "metadata": {
    "colab": {
      "name": "100days of python.ipynb",
      "provenance": [],
      "collapsed_sections": [],
      "authorship_tag": "ABX9TyMLa9R8c0cQ2tiJFMTErnKO"
    },
    "kernelspec": {
      "name": "python3",
      "display_name": "Python 3"
    },
    "language_info": {
      "name": "python"
    }
  },
  "cells": [
    {
      "cell_type": "markdown",
      "source": [
        "#Day-1"
      ],
      "metadata": {
        "id": "nzoEZjFsPMD3"
      }
    },
    {
      "cell_type": "code",
      "execution_count": null,
      "metadata": {
        "colab": {
          "base_uri": "https://localhost:8080/"
        },
        "id": "yf60hkUDO0zw",
        "outputId": "07d2ad7c-892f-45e3-e64b-f69d0dc4129e"
      },
      "outputs": [
        {
          "output_type": "stream",
          "name": "stdout",
          "text": [
            "please enter a number : 12345\n",
            "\n",
            "user entered the number is :12345\n",
            "\n",
            "reverse of the number is :54321\n"
          ]
        }
      ],
      "source": [
        "# Python program to reverse a number\n",
        "def reverse_number(input_num):\n",
        "  '''This function takes input as a positive number \n",
        "  and return reverse of the number'''\n",
        "\n",
        "  reverse_num = 0\n",
        "  while input_num > 0:\n",
        "    reverse_num = reverse_num*10 + input_num%10       \n",
        "    input_num = (input_num//10)\n",
        "  return reverse_num\n",
        "\n",
        "#user input\n",
        "input_num = int(input(\"please enter a number : \"))\n",
        "print(f'\\nuser entered the number is :{input_num}')\n",
        "print(f'\\nreverse of the number is :{reverse_number(input_num)}')"
      ]
    },
    {
      "cell_type": "markdown",
      "source": [
        "# Day-2"
      ],
      "metadata": {
        "id": "EX3KZtsF_2q5"
      }
    },
    {
      "cell_type": "code",
      "source": [
        "#Python program to check a number is Armstrong or not\n",
        "def check_armstrong(input_num):\n",
        "  '''This function takes input as a positive number \n",
        "  and return number is Armstrong or not'''\n",
        "  i=0\n",
        "  result=0\n",
        "  number1 = input_num\n",
        "  temp = input_num\n",
        "  while input_num!=0:\n",
        "      input_num = (input_num//10)\n",
        "      i=i+1\n",
        "  while number1!=0:\n",
        "      n=number1%10\n",
        "      result=result+pow(n,i)\n",
        "      number1=number1//10\n",
        "  if temp==result:\n",
        "      return(\"number is armstrong\")\n",
        "  else:\n",
        "      return(\"number is not armstrong\") \n",
        "\n",
        "#user input\n",
        "input_num = int(input(\"please enter a number : \"))\n",
        "print(f'\\nuser entered the number is :{input_num}')\n",
        "print(f'\\nOutput : {check_armstrong(input_num)}')"
      ],
      "metadata": {
        "colab": {
          "base_uri": "https://localhost:8080/"
        },
        "id": "W2yaod5T_1U4",
        "outputId": "7cd54776-a3da-4791-bdaa-2b138a8dc48d"
      },
      "execution_count": null,
      "outputs": [
        {
          "output_type": "stream",
          "name": "stdout",
          "text": [
            "please enter a number : 153\n",
            "\n",
            "user entered the number is :153\n",
            "\n",
            "Output : number is armstrong\n"
          ]
        }
      ]
    },
    {
      "cell_type": "markdown",
      "source": [
        "#Day-3"
      ],
      "metadata": {
        "id": "xiD-tK9QQ3Up"
      }
    },
    {
      "cell_type": "code",
      "execution_count": null,
      "metadata": {
        "colab": {
          "base_uri": "https://localhost:8080/"
        },
        "outputId": "da3399da-3acb-4b06-d307-def01873d555",
        "id": "LYGZeja8Q3Us"
      },
      "outputs": [
        {
          "output_type": "stream",
          "name": "stdout",
          "text": [
            "please enter a number : 25\n",
            "\n",
            "user entered the number is : 25\n",
            "\n",
            "Output: given number is not prime\n"
          ]
        }
      ],
      "source": [
        "# Python program to check a number is prime or not\n",
        "def check_prime_num(input_num):\n",
        "  '''This function takes input as a number \n",
        "  and return number is prime or not'''\n",
        "\n",
        "  flag = False\n",
        "  for i in range(2,input_num//2):\n",
        "      if input_num%i == 0:\n",
        "          flag = True\n",
        "          break\n",
        "  if flag == 1:\n",
        "      return(\"given number is not prime\")\n",
        "  else:\n",
        "      return(\"given number is prime\") \n",
        "\n",
        "#user input\n",
        "input_num = int(input(\"please enter a number : \"))\n",
        "print(f'\\nuser entered the number is : {input_num}')\n",
        "print(f'\\nOutput: {check_prime_num(input_num)}')"
      ]
    },
    {
      "cell_type": "markdown",
      "source": [
        "#Day-4"
      ],
      "metadata": {
        "id": "uTeeQJyQEy_1"
      }
    },
    {
      "cell_type": "code",
      "source": [
        "# Python program to print Fibonacci series program in using Iterative methods\n",
        "def fibonacci_series(input_num):\n",
        "  '''This function takes input as a number \n",
        "  and return Fibonacci series program in using Iterative methods'''\n",
        "\n",
        "  first,second=0,1\n",
        "  print(\"fibonacci series are : \")\n",
        "  for i in range(0,input_num):\n",
        "      if i<=1:\n",
        "          result=i\n",
        "      else:\n",
        "        result = first + second;\n",
        "        first = second;\n",
        "        second = result;\n",
        "      yield result\n",
        "\n",
        "#user input\n",
        "input_num = int(input(\"please enter a number : \"))\n",
        "print(f'\\nuser entered the number is : {input_num}\\n')\n",
        "output_num = fibonacci_series(input_num)\n",
        "for i in output_num:\n",
        "  print(i,end=' ')"
      ],
      "metadata": {
        "colab": {
          "base_uri": "https://localhost:8080/"
        },
        "id": "36dxUig6E0Uo",
        "outputId": "9035f285-06b6-489e-a16d-84ec36a1073b"
      },
      "execution_count": null,
      "outputs": [
        {
          "output_type": "stream",
          "name": "stdout",
          "text": [
            "please enter a number : 5\n",
            "\n",
            "user entered the number is : 5\n",
            "\n",
            "fibonacci series are : \n",
            "0 1 1 2 3 "
          ]
        }
      ]
    },
    {
      "cell_type": "markdown",
      "source": [
        "#Day-5"
      ],
      "metadata": {
        "id": "dh3eEn4uNVkX"
      }
    },
    {
      "cell_type": "code",
      "source": [
        "# Python program to print Fibonacci series program in using recursive methods\n",
        "def fibonacci_series(input_num):\n",
        "  '''This function takes input as a number \n",
        "  and return Fibonacci series program in using recursive methods'''\n",
        "  if input_num == 0:\n",
        "      return 0\n",
        "  elif input_num == 1:\n",
        "      return 1\n",
        "  else:\n",
        "      return fibonacci_series(input_num-1)+fibonacci_series(input_num-2)\n",
        "\n",
        "#user input\n",
        "input_num = int(input(\"please enter a number : \"))\n",
        "print(f'\\nuser entered the number is : {input_num}\\n')\n",
        "print(\"fibonacci series are : \")\n",
        "for i in range(0,input_num):\n",
        "    print(fibonacci_series(i),end=' ')"
      ],
      "metadata": {
        "colab": {
          "base_uri": "https://localhost:8080/"
        },
        "outputId": "1a6504b2-ceb5-4c7b-c77c-b299ee59b873",
        "id": "uAIKmAcTNVkZ"
      },
      "execution_count": null,
      "outputs": [
        {
          "output_type": "stream",
          "name": "stdout",
          "text": [
            "please enter a number : 5\n",
            "\n",
            "user entered the number is : 5\n",
            "\n",
            "fibonacci series are : \n",
            "0 1 1 2 3 "
          ]
        }
      ]
    },
    {
      "cell_type": "markdown",
      "source": [
        "#Day-6"
      ],
      "metadata": {
        "id": "pOrI2bHnoLmA"
      }
    },
    {
      "cell_type": "code",
      "source": [
        "# Python program for checking palindrome number using iterative method\n",
        "def check_palindrome(input_num):\n",
        "  '''This function takes input as a number \n",
        "  and checking palindrome number or not'''\n",
        "\n",
        "  reverse,temp = 0,input_num\n",
        "  while temp!=0:\n",
        "      reverse = reverse*10 + temp%10;        \n",
        "      temp=temp//10;\n",
        "  if reverse==input_num:\n",
        "      return(\"number is palindrome\")\n",
        "  else:\n",
        "      return(\"number is not palindrome\")\n",
        "\n",
        "#user input\n",
        "input_num = int(input(\"please enter a number : \"))\n",
        "print(f'\\nuser entered the number is : {input_num}')\n",
        "print(f'\\nOutput : {check_palindrome(input_num)}')"
      ],
      "metadata": {
        "colab": {
          "base_uri": "https://localhost:8080/"
        },
        "outputId": "c33bd690-0a3a-4692-9121-2accca7d5683",
        "id": "kNyWtneYoLmC"
      },
      "execution_count": null,
      "outputs": [
        {
          "output_type": "stream",
          "name": "stdout",
          "text": [
            "please enter a number : 153\n",
            "\n",
            "user entered the number is : 153\n",
            "\n",
            "Output : number is not palindrome\n"
          ]
        }
      ]
    },
    {
      "cell_type": "markdown",
      "source": [
        "#Day-7"
      ],
      "metadata": {
        "id": "Oo036v1Gefu2"
      }
    },
    {
      "cell_type": "code",
      "source": [
        "# Python program for checking palindrome number using recursive method\n",
        "def reverse(num):\n",
        "  '''This function takes input as a number \n",
        "  and return reverse of the number'''\n",
        "  if num<10:\n",
        "    return num \n",
        "  else:\n",
        "    return int(str(num%10) + str(reverse(num//10)))\n",
        "\n",
        "def isPalindrome(num):\n",
        "  '''This function takes input as a number \n",
        "  and compare with the reverse of the number and return numbere is palindrome or not'''\n",
        "  if num == reverse(num):\n",
        "      return 1\n",
        "  return 0\n",
        "\n",
        "#user input\n",
        "input_num = int(input(\"please enter a number : \"))\n",
        "print(f'\\nuser entered the number is : {input_num}\\n')\n",
        "\n",
        "if isPalindrome(input_num) == 1:\n",
        "    print(\"number is a palindrome\")\n",
        "else:\n",
        "    print(\"number is a not palindrome\")"
      ],
      "metadata": {
        "colab": {
          "base_uri": "https://localhost:8080/"
        },
        "outputId": "e1ab931d-5d57-467d-917b-98e1ffe3c1a9",
        "id": "Oq3tauu8efu8"
      },
      "execution_count": null,
      "outputs": [
        {
          "output_type": "stream",
          "name": "stdout",
          "text": [
            "please enter a number : 153\n",
            "\n",
            "user entered the number is : 153\n",
            "\n",
            "number is a not palindrome\n"
          ]
        }
      ]
    },
    {
      "cell_type": "code",
      "source": [
        "n1 = int(input(\"please give first number n1: \"))\n",
        "n2 = int(input(\"please give second number n2: \"))\n",
        "n3 = int(input(\"please give third number n3: \"))\n",
        "if n1>=n2 and n1>=n3: \n",
        "\tprint(\" n1 is greatest\");\n",
        "if n2>=n1 and n2>=n3:\n",
        "\tprint(\" n2 is greatest\");\n",
        "if n3>=n1 and n3>=n2:\n",
        "\tprint(\"n3 is greatest\"); "
      ],
      "metadata": {
        "id": "qsl3NQWMmcbJ"
      },
      "execution_count": null,
      "outputs": []
    },
    {
      "cell_type": "markdown",
      "source": [
        "#Day-8"
      ],
      "metadata": {
        "id": "_8xDRkRUmfqS"
      }
    },
    {
      "cell_type": "code",
      "source": [
        "# Python program to find greatest of three numbers\n",
        "def check_greatest(n1,n2,n3):\n",
        "  '''This function takes input as three number \n",
        "  and return greatest of three numbers'''\n",
        "  if n1>=n2 and n1>=n3: \n",
        "    return(\"n1 is greatest\")\n",
        "  if n2>=n1 and n2>=n3:\n",
        "    return(\"n2 is greatest\")\n",
        "  if n3>=n1 and n3>=n2:\n",
        "    return(\"n3 is greatest\")\n",
        "\n",
        "#user input\n",
        "n1 = int(input(\"please enter a number : \"))\n",
        "n2 = int(input(\"please enter a number : \"))\n",
        "n3 = int(input(\"please enter a number : \"))\n",
        "print(f'\\nuser entered the number n1 is : {n1}')\n",
        "print(f'\\nuser entered the number n2 is : {n2}')\n",
        "print(f'\\nuser entered the number n3 is : {n3}\\n')\n",
        "check_greatest(n1,n2,n3)\n"
      ],
      "metadata": {
        "colab": {
          "base_uri": "https://localhost:8080/",
          "height": 214
        },
        "outputId": "5dd1e465-bef5-4d7b-c327-b22eae6828c3",
        "id": "6ws_8RJPmfqU"
      },
      "execution_count": null,
      "outputs": [
        {
          "output_type": "stream",
          "name": "stdout",
          "text": [
            "please enter a number : 18\n",
            "please enter a number : 15\n",
            "please enter a number : 25\n",
            "\n",
            "user entered the number n1 is : 18\n",
            "\n",
            "user entered the number n2 is : 15\n",
            "\n",
            "user entered the number n3 is : 25\n",
            "\n"
          ]
        },
        {
          "output_type": "execute_result",
          "data": {
            "text/plain": [
              "'n3 is greatest'"
            ],
            "application/vnd.google.colaboratory.intrinsic+json": {
              "type": "string"
            }
          },
          "metadata": {},
          "execution_count": 6
        }
      ]
    },
    {
      "cell_type": "markdown",
      "source": [
        "#Day-9"
      ],
      "metadata": {
        "id": "CsdTnmjyYBEO"
      }
    },
    {
      "cell_type": "code",
      "source": [
        "# Python program to check a given number is perfect or not\n",
        "\n",
        "num = int(input(\"please give first number a: \"))\n",
        "sum=0\n",
        "for i in range(1,(num//2)+1):\n",
        "    remainder = num % i\n",
        "    if remainder == 0:\n",
        "        sum = sum + i\n",
        "if sum == num:\n",
        "    print(\"given no. is perfect number\")\n",
        "else:\n",
        "    print(\"given no. is not a perfect number\") "
      ],
      "metadata": {
        "colab": {
          "base_uri": "https://localhost:8080/"
        },
        "id": "bXFyGCReX-As",
        "outputId": "f37d130e-1f53-46c8-e408-fffe38542619"
      },
      "execution_count": null,
      "outputs": [
        {
          "output_type": "stream",
          "name": "stdout",
          "text": [
            "please give first number a: 6\n",
            "given no. is perfect number\n"
          ]
        }
      ]
    },
    {
      "cell_type": "markdown",
      "source": [
        "#Day-10"
      ],
      "metadata": {
        "id": "z0E34lWBtrt4"
      }
    },
    {
      "cell_type": "code",
      "execution_count": null,
      "metadata": {
        "colab": {
          "base_uri": "https://localhost:8080/"
        },
        "outputId": "2e5aa6f0-72bd-4c2f-9da6-ad5248aebc91",
        "id": "nqSaDRg7trt6"
      },
      "outputs": [
        {
          "output_type": "stream",
          "name": "stdout",
          "text": [
            "Enter the whole number to find the factorial: 5\n",
            "Factorial of 5 is 120\n"
          ]
        }
      ],
      "source": [
        "# Python program to calculate the factorial using iterative approach\n",
        "\n",
        "#taking an integer input from user\n",
        "num=int(input(\"Enter the whole number to find the factorial: \"))\n",
        "factorial = 1\n",
        "if num < 0:\n",
        "   \tprint(\"Factorial can't be calculated for negative number\")\n",
        "elif num == 0:\n",
        "   print(\"Factorial of 0 is 1\")\n",
        "else:\n",
        "#calculating the factorial of the input number\n",
        "  for i in range(1,num + 1):\n",
        "    factorial = factorial*i\n",
        "  print(\"Factorial of\",num,\"is\",factorial)"
      ]
    },
    {
      "cell_type": "markdown",
      "source": [
        "#Day-11"
      ],
      "metadata": {
        "id": "mKaNjZ82ZIMW"
      }
    },
    {
      "cell_type": "code",
      "execution_count": null,
      "metadata": {
        "colab": {
          "base_uri": "https://localhost:8080/"
        },
        "outputId": "aab68b3e-63f3-4c9f-deb7-146f876b8233",
        "id": "Gc6zFawtZIMa"
      },
      "outputs": [
        {
          "output_type": "stream",
          "name": "stdout",
          "text": [
            "Enter a whole number to find Factorial: 5\n",
            "Factorial of 5 is 120\n"
          ]
        }
      ],
      "source": [
        "# Python Program to find factorial of a number using recursion\n",
        "def fact(n):  \n",
        "   if n == 1:  \n",
        "       return n  \n",
        "   else:  \n",
        "#recursion \n",
        "       return n*fact(n-1)\n",
        "\n",
        "num = int(input(\"Enter a whole number to find Factorial: \"))  \n",
        "if num < 0:  \n",
        "   print(\"Factorial can't be calculated for negative number\")  \n",
        "elif num == 0:  \n",
        "   print(\"Factorial of 0 is 1\")  \n",
        "else:  \n",
        "   print(\"Factorial of\",num,\"is\",fact(num)) "
      ]
    },
    {
      "cell_type": "markdown",
      "source": [
        "#Day-12"
      ],
      "metadata": {
        "id": "njU7RWEVdHh6"
      }
    },
    {
      "cell_type": "code",
      "execution_count": null,
      "metadata": {
        "colab": {
          "base_uri": "https://localhost:8080/"
        },
        "outputId": "2da4f046-4584-4e80-e623-4e0a280fa5c6",
        "id": "g4sCf_U3dHh8"
      },
      "outputs": [
        {
          "output_type": "stream",
          "name": "stdout",
          "text": [
            "Enter a number to check even/odd 25\n",
            "25 is odd number\n"
          ]
        }
      ],
      "source": [
        "# Python program to check given number is even or odd\n",
        "\n",
        "#taking input from the user\n",
        "num = int(input(\"Enter a number to check even/odd \"))  \n",
        "#if number is divisible by 2\n",
        "if num%2 == 0:\n",
        "   print(num,\"is even number\")\n",
        "else:\n",
        "   print(num,\"is odd number\")"
      ]
    },
    {
      "cell_type": "markdown",
      "source": [
        "#Day-13"
      ],
      "metadata": {
        "id": "WYNdfh8OMfOT"
      }
    },
    {
      "cell_type": "code",
      "execution_count": null,
      "metadata": {
        "colab": {
          "base_uri": "https://localhost:8080/"
        },
        "outputId": "460ad994-4e14-4638-8931-2d13d8ebbd8d",
        "id": "FRbG4aFjMfOV"
      },
      "outputs": [
        {
          "output_type": "stream",
          "name": "stdout",
          "text": [
            "Enter a number to find square root : 25\n",
            "square roots =  5.0\n"
          ]
        }
      ],
      "source": [
        "# Python program to calculate the square root of a number\n",
        "\n",
        "import math\n",
        "#take input from the user\n",
        "num = int(input(\"Enter a number to find square root : \"))\n",
        "#check if the input number is negative\n",
        "if num<0:\n",
        "    print(\"Negative numbers can't have square roots\")\n",
        "else:\n",
        "    print(\"square roots = \",math.sqrt(num))"
      ]
    },
    {
      "cell_type": "markdown",
      "source": [
        "#Day-14"
      ],
      "metadata": {
        "id": "GwG4k5-GkOv5"
      }
    },
    {
      "cell_type": "code",
      "execution_count": null,
      "metadata": {
        "colab": {
          "base_uri": "https://localhost:8080/"
        },
        "outputId": "dd5eb430-631e-460a-d057-22c094d61ab8",
        "id": "kGpsvj33kOv8"
      },
      "outputs": [
        {
          "output_type": "stream",
          "name": "stdout",
          "text": [
            "Enter first number: 25\n",
            "Enter second number: 35\n",
            "LCM of 25 and 35 = 175\n"
          ]
        }
      ],
      "source": [
        "# Python program to find l.c.m. of two numbers\n",
        "num1 = int(input(\"Enter first number: \"))  \n",
        "num2 = int(input(\"Enter second number: \"))  \n",
        "if num1 > num2:  \n",
        "    greater = num1  \n",
        "else:  \n",
        "    greater = num2  \n",
        "while(True):  \n",
        "    if((greater % num1 == 0) and (greater % num2 == 0)):  \n",
        "        lcm = greater  \n",
        "        break  \n",
        "    greater += 1  \n",
        "print(\"LCM of\",num1,\"and\",num2,\"=\",greater)"
      ]
    },
    {
      "cell_type": "markdown",
      "source": [
        "#Day-15"
      ],
      "metadata": {
        "id": "7VPWMYkXaKWR"
      }
    },
    {
      "cell_type": "code",
      "execution_count": null,
      "metadata": {
        "colab": {
          "base_uri": "https://localhost:8080/"
        },
        "outputId": "9fa0b27d-5f1c-4bc5-f22c-aeaab09d7a15",
        "id": "zelv78-OaKWU"
      },
      "outputs": [
        {
          "output_type": "stream",
          "name": "stdout",
          "text": [
            "Enter first number: 105\n",
            "Enter second number: 126\n",
            "hcf/gcd of 105 and 126 = 21\n"
          ]
        }
      ],
      "source": [
        "# Python code to find h.c.f. of two numbers\n",
        "#taking two inputs from the user\n",
        "num1 = int(input(\"Enter first number: \"))  \n",
        "num2 = int(input(\"Enter second number: \"))  \n",
        "#checking for smaller number\n",
        "if num1 > num2:\n",
        "    minimum = num2\n",
        "else:\n",
        "    minimum = num1\n",
        "#finding highest factor of the numbers\n",
        "for i in range(1, minimum+1):\n",
        "    if((num1 % i == 0) and (num2 % i == 0)):\n",
        "        hcf = i \n",
        "print(\"hcf/gcd of\",num1,\"and\",num2,\"=\",hcf)"
      ]
    },
    {
      "cell_type": "markdown",
      "source": [
        "#Day-16"
      ],
      "metadata": {
        "id": "_CGUelhKiHVh"
      }
    },
    {
      "cell_type": "code",
      "execution_count": null,
      "metadata": {
        "colab": {
          "base_uri": "https://localhost:8080/"
        },
        "outputId": "2df11152-18cd-406a-e1a7-8a11788504de",
        "id": "DvMjIA-XiHVi"
      },
      "outputs": [
        {
          "output_type": "stream",
          "name": "stdout",
          "text": [
            "Please give the Hahrenheit Temperature : 117\n",
            "Celcius=  47.22222222222222\n"
          ]
        }
      ],
      "source": [
        "# Python program to convert fahrenheit into celsius\n",
        "#taking input from the user\n",
        "fahrenheit = float(input(\"Please give the Hahrenheit Temperature : \"))  \n",
        "#converting Celsius into Fahrenheit \n",
        "celsius = ((fahrenheit-32)*5)/9\n",
        "print(\"Celcius= \",celsius)"
      ]
    },
    {
      "cell_type": "markdown",
      "source": [
        "#Day-17"
      ],
      "metadata": {
        "id": "y54mQebfXekH"
      }
    },
    {
      "cell_type": "code",
      "execution_count": null,
      "metadata": {
        "colab": {
          "base_uri": "https://localhost:8080/"
        },
        "outputId": "dec082be-5075-4e2c-e5c5-53652a1d7ce1",
        "id": "9c-WEF2nXekI"
      },
      "outputs": [
        {
          "output_type": "stream",
          "name": "stdout",
          "text": [
            "Enter the principal amount: 15000\n",
            "Enter the rate of interest: 6\n",
            "Enter the time of interest in year: 2\n",
            "Simple Interest =  1800.0\n"
          ]
        }
      ],
      "source": [
        "# Python program to calculate simple interest\n",
        "#taking the values of principal, rate of interest and time from the user\n",
        "principal = int(input(\"Enter the principal amount: \"))  \n",
        "rate = int(input(\"Enter the rate of interest: \"))  \n",
        "time = int(input(\"Enter the time of interest in year: \"))  \n",
        "#using the input values calculate simple interest\n",
        "simpleInterest = (principal*rate*time)/100\n",
        "print(\"Simple Interest = \",simpleInterest)"
      ]
    },
    {
      "cell_type": "markdown",
      "source": [
        "#Day-18"
      ],
      "metadata": {
        "id": "XddGolR9TW_C"
      }
    },
    {
      "cell_type": "code",
      "execution_count": 1,
      "metadata": {
        "colab": {
          "base_uri": "https://localhost:8080/"
        },
        "outputId": "315542b6-c9cf-44ec-ce89-6cebf6452807",
        "id": "XJl1Et6ETW_E"
      },
      "outputs": [
        {
          "output_type": "stream",
          "name": "stdout",
          "text": [
            "please give a String : raajesh\n",
            "please give a Character to remove : a\n",
            "rjesh\n"
          ]
        }
      ],
      "source": [
        "# Python program to remove character from string using replace() method\n",
        "def remove_char(s1,s2):\n",
        "    print(s1.replace(s2, ''))\n",
        "\n",
        "s1 = input(\"please give a String : \")\n",
        "s2 = input(\"please give a Character to remove : \")\n",
        "remove_char(s1,s2)"
      ]
    },
    {
      "cell_type": "code",
      "source": [
        "# Python program to remove character from string using translate() method\n",
        "def remove_char(s1,s2):\n",
        "    dict = {ord(s2) : None}\n",
        "    print(s1.translate(dict))\n",
        "\n",
        "s1 = input(\"please give a String : \")\n",
        "s2 = input(\"please give a Character to remove : \")\n",
        "remove_char(s1,s2)"
      ],
      "metadata": {
        "colab": {
          "base_uri": "https://localhost:8080/"
        },
        "id": "FX_2MPtZT9E6",
        "outputId": "d462144b-464f-4aaa-9975-d58ded7f2315"
      },
      "execution_count": 2,
      "outputs": [
        {
          "output_type": "stream",
          "name": "stdout",
          "text": [
            "please give a String : raajesh\n",
            "please give a Character to remove : a\n",
            "rjesh\n"
          ]
        }
      ]
    }
  ]
}