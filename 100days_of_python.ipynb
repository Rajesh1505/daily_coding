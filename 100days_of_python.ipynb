{
  "nbformat": 4,
  "nbformat_minor": 0,
  "metadata": {
    "colab": {
      "name": "100days of python.ipynb",
      "provenance": [],
      "collapsed_sections": [],
      "authorship_tag": "ABX9TyO27INkjgsTaVsSjpKkMyqV"
    },
    "kernelspec": {
      "name": "python3",
      "display_name": "Python 3"
    },
    "language_info": {
      "name": "python"
    }
  },
  "cells": [
    {
      "cell_type": "markdown",
      "source": [
        "#Day-1"
      ],
      "metadata": {
        "id": "nzoEZjFsPMD3"
      }
    },
    {
      "cell_type": "code",
      "execution_count": null,
      "metadata": {
        "colab": {
          "base_uri": "https://localhost:8080/"
        },
        "id": "yf60hkUDO0zw",
        "outputId": "07d2ad7c-892f-45e3-e64b-f69d0dc4129e"
      },
      "outputs": [
        {
          "output_type": "stream",
          "name": "stdout",
          "text": [
            "please enter a number : 12345\n",
            "\n",
            "user entered the number is :12345\n",
            "\n",
            "reverse of the number is :54321\n"
          ]
        }
      ],
      "source": [
        "# Python program to reverse a number\n",
        "def reverse_number(input_num):\n",
        "  '''This function takes input as a positive number \n",
        "  and return reverse of the number'''\n",
        "\n",
        "  reverse_num = 0\n",
        "  while input_num > 0:\n",
        "    reverse_num = reverse_num*10 + input_num%10       \n",
        "    input_num = (input_num//10)\n",
        "  return reverse_num\n",
        "\n",
        "#user input\n",
        "input_num = int(input(\"please enter a number : \"))\n",
        "print(f'\\nuser entered the number is :{input_num}')\n",
        "print(f'\\nreverse of the number is :{reverse_number(input_num)}')"
      ]
    },
    {
      "cell_type": "markdown",
      "source": [
        "# Day-2"
      ],
      "metadata": {
        "id": "EX3KZtsF_2q5"
      }
    },
    {
      "cell_type": "code",
      "source": [
        "#Python program to check a number is Armstrong or not\n",
        "def check_armstrong(input_num):\n",
        "  '''This function takes input as a positive number \n",
        "  and return number is Armstrong or not'''\n",
        "  i=0\n",
        "  result=0\n",
        "  number1 = input_num\n",
        "  temp = input_num\n",
        "  while input_num!=0:\n",
        "      input_num = (input_num//10)\n",
        "      i=i+1\n",
        "  while number1!=0:\n",
        "      n=number1%10\n",
        "      result=result+pow(n,i)\n",
        "      number1=number1//10\n",
        "  if temp==result:\n",
        "      return(\"number is armstrong\")\n",
        "  else:\n",
        "      return(\"number is not armstrong\") \n",
        "\n",
        "#user input\n",
        "input_num = int(input(\"please enter a number : \"))\n",
        "print(f'\\nuser entered the number is :{input_num}')\n",
        "print(f'\\nOutput : {check_armstrong(input_num)}')"
      ],
      "metadata": {
        "colab": {
          "base_uri": "https://localhost:8080/"
        },
        "id": "W2yaod5T_1U4",
        "outputId": "7cd54776-a3da-4791-bdaa-2b138a8dc48d"
      },
      "execution_count": null,
      "outputs": [
        {
          "output_type": "stream",
          "name": "stdout",
          "text": [
            "please enter a number : 153\n",
            "\n",
            "user entered the number is :153\n",
            "\n",
            "Output : number is armstrong\n"
          ]
        }
      ]
    },
    {
      "cell_type": "markdown",
      "source": [
        "#Day-3"
      ],
      "metadata": {
        "id": "xiD-tK9QQ3Up"
      }
    },
    {
      "cell_type": "code",
      "execution_count": null,
      "metadata": {
        "colab": {
          "base_uri": "https://localhost:8080/"
        },
        "outputId": "da3399da-3acb-4b06-d307-def01873d555",
        "id": "LYGZeja8Q3Us"
      },
      "outputs": [
        {
          "output_type": "stream",
          "name": "stdout",
          "text": [
            "please enter a number : 25\n",
            "\n",
            "user entered the number is : 25\n",
            "\n",
            "Output: given number is not prime\n"
          ]
        }
      ],
      "source": [
        "# Python program to check a number is prime or not\n",
        "def check_prime_num(input_num):\n",
        "  '''This function takes input as a number \n",
        "  and return number is prime or not'''\n",
        "\n",
        "  flag = False\n",
        "  for i in range(2,input_num//2):\n",
        "      if input_num%i == 0:\n",
        "          flag = True\n",
        "          break\n",
        "  if flag == 1:\n",
        "      return(\"given number is not prime\")\n",
        "  else:\n",
        "      return(\"given number is prime\") \n",
        "\n",
        "#user input\n",
        "input_num = int(input(\"please enter a number : \"))\n",
        "print(f'\\nuser entered the number is : {input_num}')\n",
        "print(f'\\nOutput: {check_prime_num(input_num)}')"
      ]
    },
    {
      "cell_type": "markdown",
      "source": [
        "#Day-4"
      ],
      "metadata": {
        "id": "uTeeQJyQEy_1"
      }
    },
    {
      "cell_type": "code",
      "source": [
        "# Python program to print Fibonacci series program in using Iterative methods\n",
        "def fibonacci_series(input_num):\n",
        "  '''This function takes input as a number \n",
        "  and return Fibonacci series program in using Iterative methods'''\n",
        "\n",
        "  first,second=0,1\n",
        "  print(\"fibonacci series are : \")\n",
        "  for i in range(0,input_num):\n",
        "      if i<=1:\n",
        "          result=i\n",
        "      else:\n",
        "        result = first + second;\n",
        "        first = second;\n",
        "        second = result;\n",
        "      yield result\n",
        "\n",
        "#user input\n",
        "input_num = int(input(\"please enter a number : \"))\n",
        "print(f'\\nuser entered the number is : {input_num}\\n')\n",
        "output_num = fibonacci_series(input_num)\n",
        "for i in output_num:\n",
        "  print(i,end=' ')"
      ],
      "metadata": {
        "colab": {
          "base_uri": "https://localhost:8080/"
        },
        "id": "36dxUig6E0Uo",
        "outputId": "9035f285-06b6-489e-a16d-84ec36a1073b"
      },
      "execution_count": null,
      "outputs": [
        {
          "output_type": "stream",
          "name": "stdout",
          "text": [
            "please enter a number : 5\n",
            "\n",
            "user entered the number is : 5\n",
            "\n",
            "fibonacci series are : \n",
            "0 1 1 2 3 "
          ]
        }
      ]
    },
    {
      "cell_type": "markdown",
      "source": [
        "#Day-5"
      ],
      "metadata": {
        "id": "dh3eEn4uNVkX"
      }
    },
    {
      "cell_type": "code",
      "source": [
        "# Python program to print Fibonacci series program in using recursive methods\n",
        "def fibonacci_series(input_num):\n",
        "  '''This function takes input as a number \n",
        "  and return Fibonacci series program in using recursive methods'''\n",
        "  if input_num == 0:\n",
        "      return 0\n",
        "  elif input_num == 1:\n",
        "      return 1\n",
        "  else:\n",
        "      return fibonacci_series(input_num-1)+fibonacci_series(input_num-2)\n",
        "\n",
        "#user input\n",
        "input_num = int(input(\"please enter a number : \"))\n",
        "print(f'\\nuser entered the number is : {input_num}\\n')\n",
        "print(\"fibonacci series are : \")\n",
        "for i in range(0,input_num):\n",
        "    print(fibonacci_series(i),end=' ')"
      ],
      "metadata": {
        "colab": {
          "base_uri": "https://localhost:8080/"
        },
        "outputId": "1a6504b2-ceb5-4c7b-c77c-b299ee59b873",
        "id": "uAIKmAcTNVkZ"
      },
      "execution_count": null,
      "outputs": [
        {
          "output_type": "stream",
          "name": "stdout",
          "text": [
            "please enter a number : 5\n",
            "\n",
            "user entered the number is : 5\n",
            "\n",
            "fibonacci series are : \n",
            "0 1 1 2 3 "
          ]
        }
      ]
    },
    {
      "cell_type": "markdown",
      "source": [
        "#Day-6"
      ],
      "metadata": {
        "id": "pOrI2bHnoLmA"
      }
    },
    {
      "cell_type": "code",
      "source": [
        "# Python program for checking palindrome number using iterative method\n",
        "def check_palindrome(input_num):\n",
        "  '''This function takes input as a number \n",
        "  and checking palindrome number or not'''\n",
        "\n",
        "  reverse,temp = 0,input_num\n",
        "  while temp!=0:\n",
        "      reverse = reverse*10 + temp%10;        \n",
        "      temp=temp//10;\n",
        "  if reverse==input_num:\n",
        "      return(\"number is palindrome\")\n",
        "  else:\n",
        "      return(\"number is not palindrome\")\n",
        "\n",
        "#user input\n",
        "input_num = int(input(\"please enter a number : \"))\n",
        "print(f'\\nuser entered the number is : {input_num}')\n",
        "print(f'\\nOutput : {check_palindrome(input_num)}')"
      ],
      "metadata": {
        "colab": {
          "base_uri": "https://localhost:8080/"
        },
        "outputId": "c33bd690-0a3a-4692-9121-2accca7d5683",
        "id": "kNyWtneYoLmC"
      },
      "execution_count": 4,
      "outputs": [
        {
          "output_type": "stream",
          "name": "stdout",
          "text": [
            "please enter a number : 153\n",
            "\n",
            "user entered the number is : 153\n",
            "\n",
            "Output : number is not palindrome\n"
          ]
        }
      ]
    }
  ]
}